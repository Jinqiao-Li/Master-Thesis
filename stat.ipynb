{
 "cells": [
  {
   "cell_type": "markdown",
   "id": "829e36ee-07ea-4c8b-b728-4f73003c267b",
   "metadata": {},
   "source": [
    "# Statistic Analysis\n",
    "Here, I did some statistic anaylsis about the dataset we use for following experiments."
   ]
  },
  {
   "cell_type": "code",
   "execution_count": 47,
   "id": "408f955c-c72a-4ad1-ab26-b7800f5cdbf2",
   "metadata": {},
   "outputs": [],
   "source": [
    "# import all the required packages\n",
    "import sys\n",
    "import os\n",
    "os.environ['CUDA_VISIBLE_DEVICES'] = '2,4'  # for several GPUs"
   ]
  },
  {
   "cell_type": "code",
   "execution_count": 48,
   "id": "73400d28-452d-4e5e-8786-7b10c84f3cd5",
   "metadata": {},
   "outputs": [],
   "source": [
    "import pandas as pd\n",
    "import numpy as np\n",
    "import json, csv\n",
    "import torch\n",
    "import matplotlib.pyplot as plt\n",
    "\n",
    "from sklearn.model_selection import train_test_split"
   ]
  },
  {
   "cell_type": "code",
   "execution_count": 49,
   "id": "16294ecf-ecb0-4964-bbdb-afe15c038307",
   "metadata": {},
   "outputs": [
    {
     "name": "stdout",
     "output_type": "stream",
     "text": [
      "/home/user/jinqli/anaconda3/envs/new_env/bin/python\n",
      "True\n"
     ]
    }
   ],
   "source": [
    "# check the running environment\n",
    "print(sys.executable)\n",
    "print(torch.cuda.is_available())"
   ]
  },
  {
   "cell_type": "code",
   "execution_count": 50,
   "id": "fe44715e-bb1b-45c0-9837-490e9c515668",
   "metadata": {},
   "outputs": [],
   "source": [
    "onet_path = \"/srv/scratch2/jinq/taskontology/onet_occ_tasks_workactivities_en.jsonl.bz2\"\n",
    "tasks_path = \"/srv/scratch2/jinq/taskontology/taskdictionary.jsonl\"\n",
    "dwa_path = '/srv/scratch2/jinq/taskontology/DWA Reference.xlsx'\n",
    "tasks_dwa_path = \"/srv/scratch2/jinq/taskontology/Tasks to DWAs.xlsx\"\n",
    "jobads_path = '/srv/scratch2/jinq/taskontology/jobad_taskdata/task_sample-0.2.jsonl'"
   ]
  },
  {
   "cell_type": "markdown",
   "id": "9d035560-4fd2-4783-98d9-ef29814b8210",
   "metadata": {
    "tags": []
   },
   "source": [
    "## Basic info about relevant files"
   ]
  },
  {
   "cell_type": "code",
   "execution_count": 51,
   "id": "8c7f90ee-16f1-4ffd-80be-bf5d003899d8",
   "metadata": {
    "tags": []
   },
   "outputs": [
    {
     "name": "stdout",
     "output_type": "stream",
     "text": [
      "numbers of records in onet: 22210\n"
     ]
    },
    {
     "data": {
      "text/html": [
       "<div>\n",
       "<style scoped>\n",
       "    .dataframe tbody tr th:only-of-type {\n",
       "        vertical-align: middle;\n",
       "    }\n",
       "\n",
       "    .dataframe tbody tr th {\n",
       "        vertical-align: top;\n",
       "    }\n",
       "\n",
       "    .dataframe thead th {\n",
       "        text-align: right;\n",
       "    }\n",
       "</style>\n",
       "<table border=\"1\" class=\"dataframe\">\n",
       "  <thead>\n",
       "    <tr style=\"text-align: right;\">\n",
       "      <th></th>\n",
       "      <th>id</th>\n",
       "      <th>type</th>\n",
       "      <th>language</th>\n",
       "      <th>text</th>\n",
       "    </tr>\n",
       "  </thead>\n",
       "  <tbody>\n",
       "    <tr>\n",
       "      <th>0</th>\n",
       "      <td>11-1011.00</td>\n",
       "      <td>SOCCode</td>\n",
       "      <td>en</td>\n",
       "      <td>Chief Executives</td>\n",
       "    </tr>\n",
       "    <tr>\n",
       "      <th>1</th>\n",
       "      <td>20461</td>\n",
       "      <td>Task</td>\n",
       "      <td>en</td>\n",
       "      <td>Review and analyze legislation, laws, or publi...</td>\n",
       "    </tr>\n",
       "    <tr>\n",
       "      <th>2</th>\n",
       "      <td>8823</td>\n",
       "      <td>Task</td>\n",
       "      <td>en</td>\n",
       "      <td>Direct or coordinate an organization's financi...</td>\n",
       "    </tr>\n",
       "    <tr>\n",
       "      <th>3</th>\n",
       "      <td>8824</td>\n",
       "      <td>Task</td>\n",
       "      <td>en</td>\n",
       "      <td>Confer with board members, organization offici...</td>\n",
       "    </tr>\n",
       "    <tr>\n",
       "      <th>4</th>\n",
       "      <td>8825</td>\n",
       "      <td>Task</td>\n",
       "      <td>en</td>\n",
       "      <td>Analyze operations to evaluate performance of ...</td>\n",
       "    </tr>\n",
       "  </tbody>\n",
       "</table>\n",
       "</div>"
      ],
      "text/plain": [
       "           id     type language  \\\n",
       "0  11-1011.00  SOCCode       en   \n",
       "1       20461     Task       en   \n",
       "2        8823     Task       en   \n",
       "3        8824     Task       en   \n",
       "4        8825     Task       en   \n",
       "\n",
       "                                                text  \n",
       "0                                   Chief Executives  \n",
       "1  Review and analyze legislation, laws, or publi...  \n",
       "2  Direct or coordinate an organization's financi...  \n",
       "3  Confer with board members, organization offici...  \n",
       "4  Analyze operations to evaluate performance of ...  "
      ]
     },
     "execution_count": 51,
     "metadata": {},
     "output_type": "execute_result"
    }
   ],
   "source": [
    "onet = pd.read_json(onet_path,lines=True)\n",
    "print('numbers of records in onet:', onet.shape[0])\n",
    "onet.head()"
   ]
  },
  {
   "cell_type": "code",
   "execution_count": 52,
   "id": "76d24c41-5f89-4490-a3ff-0550ad9c5b94",
   "metadata": {
    "tags": []
   },
   "outputs": [
    {
     "name": "stdout",
     "output_type": "stream",
     "text": [
      "numbers of records in task dictionary: 17565\n"
     ]
    },
    {
     "data": {
      "text/html": [
       "<div>\n",
       "<style scoped>\n",
       "    .dataframe tbody tr th:only-of-type {\n",
       "        vertical-align: middle;\n",
       "    }\n",
       "\n",
       "    .dataframe tbody tr th {\n",
       "        vertical-align: top;\n",
       "    }\n",
       "\n",
       "    .dataframe thead th {\n",
       "        text-align: right;\n",
       "    }\n",
       "</style>\n",
       "<table border=\"1\" class=\"dataframe\">\n",
       "  <thead>\n",
       "    <tr style=\"text-align: right;\">\n",
       "      <th></th>\n",
       "      <th>task</th>\n",
       "      <th>dwa</th>\n",
       "      <th>iwa</th>\n",
       "      <th>gwa</th>\n",
       "      <th>occupation</th>\n",
       "    </tr>\n",
       "  </thead>\n",
       "  <tbody>\n",
       "    <tr>\n",
       "      <th>0</th>\n",
       "      <td>Review and analyze legislation, laws, or publi...</td>\n",
       "      <td>[Analyze impact of legal or regulatory changes...</td>\n",
       "      <td>[Assess characteristics or impacts of regulati...</td>\n",
       "      <td>[Analyzing Data or Information, Providing Cons...</td>\n",
       "      <td>[Chief Executives]</td>\n",
       "    </tr>\n",
       "    <tr>\n",
       "      <th>1</th>\n",
       "      <td>Direct or coordinate an organization's financi...</td>\n",
       "      <td>[Direct financial operations.]</td>\n",
       "      <td>[Manage budgets or finances.]</td>\n",
       "      <td>[Guiding, Directing, and Motivating Subordinates]</td>\n",
       "      <td>[Chief Executives]</td>\n",
       "    </tr>\n",
       "    <tr>\n",
       "      <th>2</th>\n",
       "      <td>Confer with board members, organization offici...</td>\n",
       "      <td>[Confer with organizational members to accompl...</td>\n",
       "      <td>[Communicate with others about operational pla...</td>\n",
       "      <td>[Communicating with Supervisors, Peers, or Sub...</td>\n",
       "      <td>[Chief Executives]</td>\n",
       "    </tr>\n",
       "    <tr>\n",
       "      <th>3</th>\n",
       "      <td>Analyze operations to evaluate performance of ...</td>\n",
       "      <td>[Analyze data to assess operational or project...</td>\n",
       "      <td>[Analyze data to improve operations.]</td>\n",
       "      <td>[Analyzing Data or Information]</td>\n",
       "      <td>[Chief Executives]</td>\n",
       "    </tr>\n",
       "    <tr>\n",
       "      <th>4</th>\n",
       "      <td>Direct, plan, or implement policies, objective...</td>\n",
       "      <td>[Implement organizational process or policy ch...</td>\n",
       "      <td>[Implement procedures or processes., Develop o...</td>\n",
       "      <td>[Making Decisions and Solving Problems, Develo...</td>\n",
       "      <td>[Chief Executives]</td>\n",
       "    </tr>\n",
       "  </tbody>\n",
       "</table>\n",
       "</div>"
      ],
      "text/plain": [
       "                                                task  \\\n",
       "0  Review and analyze legislation, laws, or publi...   \n",
       "1  Direct or coordinate an organization's financi...   \n",
       "2  Confer with board members, organization offici...   \n",
       "3  Analyze operations to evaluate performance of ...   \n",
       "4  Direct, plan, or implement policies, objective...   \n",
       "\n",
       "                                                 dwa  \\\n",
       "0  [Analyze impact of legal or regulatory changes...   \n",
       "1                     [Direct financial operations.]   \n",
       "2  [Confer with organizational members to accompl...   \n",
       "3  [Analyze data to assess operational or project...   \n",
       "4  [Implement organizational process or policy ch...   \n",
       "\n",
       "                                                 iwa  \\\n",
       "0  [Assess characteristics or impacts of regulati...   \n",
       "1                      [Manage budgets or finances.]   \n",
       "2  [Communicate with others about operational pla...   \n",
       "3              [Analyze data to improve operations.]   \n",
       "4  [Implement procedures or processes., Develop o...   \n",
       "\n",
       "                                                 gwa          occupation  \n",
       "0  [Analyzing Data or Information, Providing Cons...  [Chief Executives]  \n",
       "1  [Guiding, Directing, and Motivating Subordinates]  [Chief Executives]  \n",
       "2  [Communicating with Supervisors, Peers, or Sub...  [Chief Executives]  \n",
       "3                    [Analyzing Data or Information]  [Chief Executives]  \n",
       "4  [Making Decisions and Solving Problems, Develo...  [Chief Executives]  "
      ]
     },
     "execution_count": 52,
     "metadata": {},
     "output_type": "execute_result"
    }
   ],
   "source": [
    "tasks = pd.read_json(tasks_path,lines=True)\n",
    "print('numbers of records in task dictionary:', tasks.shape[0])\n",
    "tasks.head()"
   ]
  },
  {
   "cell_type": "code",
   "execution_count": 53,
   "id": "759be1de-7738-4c1d-9909-ba215d183aa8",
   "metadata": {
    "tags": []
   },
   "outputs": [
    {
     "name": "stdout",
     "output_type": "stream",
     "text": [
      "numbers of records in dwa references: 2087\n"
     ]
    },
    {
     "data": {
      "text/html": [
       "<div>\n",
       "<style scoped>\n",
       "    .dataframe tbody tr th:only-of-type {\n",
       "        vertical-align: middle;\n",
       "    }\n",
       "\n",
       "    .dataframe tbody tr th {\n",
       "        vertical-align: top;\n",
       "    }\n",
       "\n",
       "    .dataframe thead th {\n",
       "        text-align: right;\n",
       "    }\n",
       "</style>\n",
       "<table border=\"1\" class=\"dataframe\">\n",
       "  <thead>\n",
       "    <tr style=\"text-align: right;\">\n",
       "      <th></th>\n",
       "      <th>Element ID</th>\n",
       "      <th>Element Name</th>\n",
       "      <th>IWA ID</th>\n",
       "      <th>IWA Title</th>\n",
       "      <th>DWA ID</th>\n",
       "      <th>DWA Title</th>\n",
       "    </tr>\n",
       "  </thead>\n",
       "  <tbody>\n",
       "    <tr>\n",
       "      <th>0</th>\n",
       "      <td>4.A.1.a.1</td>\n",
       "      <td>Getting Information</td>\n",
       "      <td>4.A.1.a.1.I01</td>\n",
       "      <td>Study details of artistic productions.</td>\n",
       "      <td>4.A.1.a.1.I01.D01</td>\n",
       "      <td>Review art or design materials.</td>\n",
       "    </tr>\n",
       "    <tr>\n",
       "      <th>1</th>\n",
       "      <td>4.A.1.a.1</td>\n",
       "      <td>Getting Information</td>\n",
       "      <td>4.A.1.a.1.I01</td>\n",
       "      <td>Study details of artistic productions.</td>\n",
       "      <td>4.A.1.a.1.I01.D02</td>\n",
       "      <td>Study details of musical compositions.</td>\n",
       "    </tr>\n",
       "    <tr>\n",
       "      <th>2</th>\n",
       "      <td>4.A.1.a.1</td>\n",
       "      <td>Getting Information</td>\n",
       "      <td>4.A.1.a.1.I01</td>\n",
       "      <td>Study details of artistic productions.</td>\n",
       "      <td>4.A.1.a.1.I01.D03</td>\n",
       "      <td>Review production information to determine cos...</td>\n",
       "    </tr>\n",
       "    <tr>\n",
       "      <th>3</th>\n",
       "      <td>4.A.1.a.1</td>\n",
       "      <td>Getting Information</td>\n",
       "      <td>4.A.1.a.1.I01</td>\n",
       "      <td>Study details of artistic productions.</td>\n",
       "      <td>4.A.1.a.1.I01.D04</td>\n",
       "      <td>Study scripts to determine project requirements.</td>\n",
       "    </tr>\n",
       "    <tr>\n",
       "      <th>4</th>\n",
       "      <td>4.A.1.a.1</td>\n",
       "      <td>Getting Information</td>\n",
       "      <td>4.A.1.a.1.I01</td>\n",
       "      <td>Study details of artistic productions.</td>\n",
       "      <td>4.A.1.a.1.I01.D05</td>\n",
       "      <td>Review audio or video recordings.</td>\n",
       "    </tr>\n",
       "  </tbody>\n",
       "</table>\n",
       "</div>"
      ],
      "text/plain": [
       "  Element ID         Element Name         IWA ID  \\\n",
       "0  4.A.1.a.1  Getting Information  4.A.1.a.1.I01   \n",
       "1  4.A.1.a.1  Getting Information  4.A.1.a.1.I01   \n",
       "2  4.A.1.a.1  Getting Information  4.A.1.a.1.I01   \n",
       "3  4.A.1.a.1  Getting Information  4.A.1.a.1.I01   \n",
       "4  4.A.1.a.1  Getting Information  4.A.1.a.1.I01   \n",
       "\n",
       "                                IWA Title             DWA ID  \\\n",
       "0  Study details of artistic productions.  4.A.1.a.1.I01.D01   \n",
       "1  Study details of artistic productions.  4.A.1.a.1.I01.D02   \n",
       "2  Study details of artistic productions.  4.A.1.a.1.I01.D03   \n",
       "3  Study details of artistic productions.  4.A.1.a.1.I01.D04   \n",
       "4  Study details of artistic productions.  4.A.1.a.1.I01.D05   \n",
       "\n",
       "                                           DWA Title  \n",
       "0                    Review art or design materials.  \n",
       "1             Study details of musical compositions.  \n",
       "2  Review production information to determine cos...  \n",
       "3   Study scripts to determine project requirements.  \n",
       "4                  Review audio or video recordings.  "
      ]
     },
     "execution_count": 53,
     "metadata": {},
     "output_type": "execute_result"
    }
   ],
   "source": [
    "dwa = pd.read_excel(dwa_path)\n",
    "print('numbers of records in dwa references:', dwa.shape[0])\n",
    "dwa.head()"
   ]
  },
  {
   "cell_type": "code",
   "execution_count": 54,
   "id": "28923f12-6457-4fdc-956d-aabcf7df2561",
   "metadata": {
    "tags": []
   },
   "outputs": [
    {
     "name": "stdout",
     "output_type": "stream",
     "text": [
      "numbers of records in tasks to DWAs: 23543\n"
     ]
    },
    {
     "data": {
      "text/html": [
       "<div>\n",
       "<style scoped>\n",
       "    .dataframe tbody tr th:only-of-type {\n",
       "        vertical-align: middle;\n",
       "    }\n",
       "\n",
       "    .dataframe tbody tr th {\n",
       "        vertical-align: top;\n",
       "    }\n",
       "\n",
       "    .dataframe thead th {\n",
       "        text-align: right;\n",
       "    }\n",
       "</style>\n",
       "<table border=\"1\" class=\"dataframe\">\n",
       "  <thead>\n",
       "    <tr style=\"text-align: right;\">\n",
       "      <th></th>\n",
       "      <th>O*NET-SOC Code</th>\n",
       "      <th>Title</th>\n",
       "      <th>Task ID</th>\n",
       "      <th>Task</th>\n",
       "      <th>DWA ID</th>\n",
       "      <th>DWA Title</th>\n",
       "      <th>Date</th>\n",
       "      <th>Domain Source</th>\n",
       "    </tr>\n",
       "  </thead>\n",
       "  <tbody>\n",
       "    <tr>\n",
       "      <th>0</th>\n",
       "      <td>11-1011.00</td>\n",
       "      <td>Chief Executives</td>\n",
       "      <td>20461</td>\n",
       "      <td>Review and analyze legislation, laws, or publi...</td>\n",
       "      <td>4.A.2.a.4.I09.D03</td>\n",
       "      <td>Analyze impact of legal or regulatory changes.</td>\n",
       "      <td>07/2014</td>\n",
       "      <td>Analyst</td>\n",
       "    </tr>\n",
       "    <tr>\n",
       "      <th>1</th>\n",
       "      <td>11-1011.00</td>\n",
       "      <td>Chief Executives</td>\n",
       "      <td>20461</td>\n",
       "      <td>Review and analyze legislation, laws, or publi...</td>\n",
       "      <td>4.A.4.b.6.I08.D04</td>\n",
       "      <td>Advise others on legal or regulatory complianc...</td>\n",
       "      <td>07/2014</td>\n",
       "      <td>Analyst</td>\n",
       "    </tr>\n",
       "    <tr>\n",
       "      <th>2</th>\n",
       "      <td>11-1011.00</td>\n",
       "      <td>Chief Executives</td>\n",
       "      <td>8823</td>\n",
       "      <td>Direct or coordinate an organization's financi...</td>\n",
       "      <td>4.A.4.b.4.I09.D02</td>\n",
       "      <td>Direct financial operations.</td>\n",
       "      <td>03/2014</td>\n",
       "      <td>Analyst</td>\n",
       "    </tr>\n",
       "    <tr>\n",
       "      <th>3</th>\n",
       "      <td>11-1011.00</td>\n",
       "      <td>Chief Executives</td>\n",
       "      <td>8824</td>\n",
       "      <td>Confer with board members, organization offici...</td>\n",
       "      <td>4.A.4.a.2.I03.D14</td>\n",
       "      <td>Confer with organizational members to accompli...</td>\n",
       "      <td>03/2014</td>\n",
       "      <td>Analyst</td>\n",
       "    </tr>\n",
       "    <tr>\n",
       "      <th>4</th>\n",
       "      <td>11-1011.00</td>\n",
       "      <td>Chief Executives</td>\n",
       "      <td>8825</td>\n",
       "      <td>Analyze operations to evaluate performance of ...</td>\n",
       "      <td>4.A.2.a.4.I07.D09</td>\n",
       "      <td>Analyze data to assess operational or project ...</td>\n",
       "      <td>03/2014</td>\n",
       "      <td>Analyst</td>\n",
       "    </tr>\n",
       "  </tbody>\n",
       "</table>\n",
       "</div>"
      ],
      "text/plain": [
       "  O*NET-SOC Code             Title  Task ID  \\\n",
       "0     11-1011.00  Chief Executives    20461   \n",
       "1     11-1011.00  Chief Executives    20461   \n",
       "2     11-1011.00  Chief Executives     8823   \n",
       "3     11-1011.00  Chief Executives     8824   \n",
       "4     11-1011.00  Chief Executives     8825   \n",
       "\n",
       "                                                Task             DWA ID  \\\n",
       "0  Review and analyze legislation, laws, or publi...  4.A.2.a.4.I09.D03   \n",
       "1  Review and analyze legislation, laws, or publi...  4.A.4.b.6.I08.D04   \n",
       "2  Direct or coordinate an organization's financi...  4.A.4.b.4.I09.D02   \n",
       "3  Confer with board members, organization offici...  4.A.4.a.2.I03.D14   \n",
       "4  Analyze operations to evaluate performance of ...  4.A.2.a.4.I07.D09   \n",
       "\n",
       "                                           DWA Title     Date Domain Source  \n",
       "0     Analyze impact of legal or regulatory changes.  07/2014       Analyst  \n",
       "1  Advise others on legal or regulatory complianc...  07/2014       Analyst  \n",
       "2                       Direct financial operations.  03/2014       Analyst  \n",
       "3  Confer with organizational members to accompli...  03/2014       Analyst  \n",
       "4  Analyze data to assess operational or project ...  03/2014       Analyst  "
      ]
     },
     "execution_count": 54,
     "metadata": {},
     "output_type": "execute_result"
    }
   ],
   "source": [
    "# This file maps each Detailed Work Activity (DWA) to the task statements, and consequently to the O*NET-SOC occupations, requiring that activity. \n",
    "# Each DWA is mapped to multiple task statements, and each referenced task statement is mapped to one or more DWAs.\n",
    "\n",
    "task_to_dwa = pd.read_excel(tasks_dwa_path)\n",
    "print('numbers of records in tasks to DWAs:', task_to_dwa.shape[0])\n",
    "task_to_dwa.head()"
   ]
  },
  {
   "cell_type": "code",
   "execution_count": 55,
   "id": "e330829c-341c-4444-8953-1c3bdeb815c9",
   "metadata": {},
   "outputs": [
    {
     "name": "stdout",
     "output_type": "stream",
     "text": [
      "numbers of records in job ads: 3711\n"
     ]
    },
    {
     "data": {
      "text/html": [
       "<div>\n",
       "<style scoped>\n",
       "    .dataframe tbody tr th:only-of-type {\n",
       "        vertical-align: middle;\n",
       "    }\n",
       "\n",
       "    .dataframe tbody tr th {\n",
       "        vertical-align: top;\n",
       "    }\n",
       "\n",
       "    .dataframe thead th {\n",
       "        text-align: right;\n",
       "    }\n",
       "</style>\n",
       "<table border=\"1\" class=\"dataframe\">\n",
       "  <thead>\n",
       "    <tr style=\"text-align: right;\">\n",
       "      <th></th>\n",
       "      <th>id</th>\n",
       "      <th>text</th>\n",
       "      <th>label</th>\n",
       "      <th>start</th>\n",
       "      <th>end</th>\n",
       "    </tr>\n",
       "  </thead>\n",
       "  <tbody>\n",
       "    <tr>\n",
       "      <th>3</th>\n",
       "      <td>sjmm-22002109740005</td>\n",
       "      <td>Qualitätskontrolle</td>\n",
       "      <td>Object</td>\n",
       "      <td>2627</td>\n",
       "      <td>2645</td>\n",
       "    </tr>\n",
       "    <tr>\n",
       "      <th>4</th>\n",
       "      <td>sjmm-22002109740005</td>\n",
       "      <td>Qualitätskontrolle in jeder Produktionsphase g...</td>\n",
       "      <td>TASK</td>\n",
       "      <td>2627</td>\n",
       "      <td>2685</td>\n",
       "    </tr>\n",
       "    <tr>\n",
       "      <th>5</th>\n",
       "      <td>sjmm-22002109740005</td>\n",
       "      <td>in jeder Produktionsphase</td>\n",
       "      <td>Context</td>\n",
       "      <td>2646</td>\n",
       "      <td>2671</td>\n",
       "    </tr>\n",
       "    <tr>\n",
       "      <th>6</th>\n",
       "      <td>sjmm-22002109740005</td>\n",
       "      <td>gewährleisten</td>\n",
       "      <td>Activitiy</td>\n",
       "      <td>2672</td>\n",
       "      <td>2685</td>\n",
       "    </tr>\n",
       "    <tr>\n",
       "      <th>7</th>\n",
       "      <td>sjmm-22002109740005</td>\n",
       "      <td>Produktivität unserer Produktionsmaschinen ver...</td>\n",
       "      <td>TASK</td>\n",
       "      <td>2690</td>\n",
       "      <td>2743</td>\n",
       "    </tr>\n",
       "  </tbody>\n",
       "</table>\n",
       "</div>"
      ],
      "text/plain": [
       "                    id                                               text  \\\n",
       "3  sjmm-22002109740005                                 Qualitätskontrolle   \n",
       "4  sjmm-22002109740005  Qualitätskontrolle in jeder Produktionsphase g...   \n",
       "5  sjmm-22002109740005                          in jeder Produktionsphase   \n",
       "6  sjmm-22002109740005                                      gewährleisten   \n",
       "7  sjmm-22002109740005  Produktivität unserer Produktionsmaschinen ver...   \n",
       "\n",
       "       label  start   end  \n",
       "3     Object   2627  2645  \n",
       "4       TASK   2627  2685  \n",
       "5    Context   2646  2671  \n",
       "6  Activitiy   2672  2685  \n",
       "7       TASK   2690  2743  "
      ]
     },
     "execution_count": 55,
     "metadata": {},
     "output_type": "execute_result"
    }
   ],
   "source": [
    "jobads = pd.read_json(jobads_path,lines=True)\n",
    "print('numbers of records in job ads:', jobads.shape[0])\n",
    "jobads[3:8]"
   ]
  },
  {
   "cell_type": "markdown",
   "id": "b90ac05d-868c-4006-b72e-0601f4204d7a",
   "metadata": {},
   "source": [
    "## Length Distribution"
   ]
  },
  {
   "cell_type": "code",
   "execution_count": 80,
   "id": "2e300e7f-68e7-4901-828b-64fe6ff9f2d3",
   "metadata": {},
   "outputs": [
    {
     "name": "stdout",
     "output_type": "stream",
     "text": [
      "Task(en) length distribution task(en): \n"
     ]
    },
    {
     "data": {
      "text/plain": [
       "0        23\n",
       "1        23\n",
       "2        17\n",
       "3        17\n",
       "4        27\n",
       "         ..\n",
       "23538    22\n",
       "23539     8\n",
       "23540    20\n",
       "23541    22\n",
       "23542    22\n",
       "Name: Task, Length: 23543, dtype: int64"
      ]
     },
     "execution_count": 80,
     "metadata": {},
     "output_type": "execute_result"
    }
   ],
   "source": [
    "# length distribution\n",
    "\n",
    "print('Task(en) length distribution task(en): ')\n",
    "en_length = task_to_dwa.Task.str.split().str.len()\n",
    "en_length"
   ]
  },
  {
   "cell_type": "code",
   "execution_count": 83,
   "id": "ef41dd0b-95b7-4c5f-9787-db903c8144fd",
   "metadata": {},
   "outputs": [
    {
     "data": {
      "image/png": "[encoded data removed]",
      "text/plain": [
       "<Figure size 432x288 with 1 Axes>"
      ]
     },
     "metadata": {
      "needs_background": "light"
     },
     "output_type": "display_data"
    }
   ],
   "source": [
    "plt.hist(en_length,bins=80)\n",
    "plt.xlabel('length of task (words)')\n",
    "plt.ylabel('counts')\n",
    "plt.savefig('imgs/len_en.png')\n",
    "plt.savefig('imgs/len_en.pdf')\n",
    "plt.show()"
   ]
  },
  {
   "cell_type": "code",
   "execution_count": null,
   "id": "e8aa9173-f759-4bd9-aba3-cb65a3754e5f",
   "metadata": {},
   "outputs": [],
   "source": [
    "# German length distribution\n",
    "print('Task(en) length distribution task(en): ')\n",
    "de_length = data_de.Task_de.str.split().str.len()\n",
    "de_length"
   ]
  },
  {
   "cell_type": "code",
   "execution_count": 65,
   "id": "a6c3312f-c439-4a7a-9a59-f0aff97c25f7",
   "metadata": {},
   "outputs": [],
   "source": [
    "de_path = '/srv/scratch2/jinq/taskontology/task_to_GWA_IWA_DWA_DE.csv'\n",
    "data_de = pd.read_csv(de_path, index_col=0)\n",
    "\n",
    "# de length distribution\n",
    "print('Task(en) length distribution task(en): ')\n",
    "de_length = data_de.Task_de.str.split().str.len()\n",
    "de_length"
   ]
  },
  {
   "cell_type": "code",
   "execution_count": 77,
   "id": "a08f56eb-4f84-4f42-b948-749236e65882",
   "metadata": {},
   "outputs": [
    {
     "data": {
      "image/png": "[encoded data removed]",
      "text/plain": [
       "<Figure size 432x288 with 1 Axes>"
      ]
     },
     "metadata": {
      "needs_background": "light"
     },
     "output_type": "display_data"
    }
   ],
   "source": [
    "plt.hist(de_length,bins=80)\n",
    "plt.xlabel('length of task (words)')\n",
    "plt.ylabel('counts')\n",
    "plt.savefig('imgs/len_de.png')\n",
    "plt.savefig('imgs/len_de.pdf')\n",
    "plt.show()"
   ]
  },
  {
   "cell_type": "markdown",
   "id": "89a82a27-4144-4e20-97cb-93cd5cdddee8",
   "metadata": {
    "tags": []
   },
   "source": [
    "## tasks distribution on the level of DWAs"
   ]
  },
  {
   "cell_type": "code",
   "execution_count": 10,
   "id": "3f6e221f-2459-4ebb-86dd-ddc5ec8e01e7",
   "metadata": {},
   "outputs": [
    {
     "name": "stdout",
     "output_type": "stream",
     "text": [
      "count    2085.000000\n",
      "mean       11.291607\n",
      "std        10.368839\n",
      "min         1.000000\n",
      "25%         6.000000\n",
      "50%         8.000000\n",
      "75%        13.000000\n",
      "max       122.000000\n",
      "Name: DWA ID, dtype: float64\n"
     ]
    },
    {
     "data": {
      "text/plain": [
       "4.A.4.b.6.I07.D02    122\n",
       "4.A.2.a.1.I03.D04    115\n",
       "4.A.3.b.6.I08.D03    112\n",
       "4.A.3.b.6.I11.D04     76\n",
       "4.A.2.b.3.I01.D10     75\n",
       "                    ... \n",
       "4.A.4.a.5.I10.D10      1\n",
       "4.A.1.b.1.I02.D08      1\n",
       "4.A.3.b.4.I05.D05      1\n",
       "4.A.3.a.2.I47.D05      1\n",
       "4.A.1.b.2.I07.D19      1\n",
       "Name: DWA ID, Length: 2085, dtype: int64"
      ]
     },
     "execution_count": 10,
     "metadata": {},
     "output_type": "execute_result"
    }
   ],
   "source": [
    "# There are 2085 DWAs \n",
    "# A DWA category contains an average of 11.29 tasks\n",
    "# A DWA category can contain up to 122 tasks\n",
    "dwa_counts = task_to_dwa['DWA ID'].value_counts()\n",
    "print(dwa_counts.describe())\n",
    "dwa_counts"
   ]
  },
  {
   "cell_type": "code",
   "execution_count": 76,
   "id": "0ea40467-add1-443c-b4e4-2fcb273a45a4",
   "metadata": {},
   "outputs": [
    {
     "data": {
      "image/png": "[encoded data removed]",
      "text/plain": [
       "<Figure size 432x288 with 1 Axes>"
      ]
     },
     "metadata": {
      "needs_background": "light"
     },
     "output_type": "display_data"
    }
   ],
   "source": [
    "\n",
    "plt.hist(dwa_counts,bins=150)\n",
    "plt.plot(dwa_counts.value_counts().sort_index())\n",
    "plt.xlabel('number of tasks in one DWA category')\n",
    "plt.ylabel('number of DWAs')\n",
    "plt.title('Distribution of tasks in DWAs')\n",
    "plt.savefig('imgs/dwa_task.png')\n",
    "plt.savefig('imgs/dwa_task.pdf')\n",
    "plt.show()"
   ]
  },
  {
   "cell_type": "code",
   "execution_count": 14,
   "id": "bfaaaa72-a292-4e65-a85f-66eeb37bbe67",
   "metadata": {},
   "outputs": [
    {
     "name": "stdout",
     "output_type": "stream",
     "text": [
      "1    14752\n",
      "2     3453\n",
      "3      620\n",
      "4        5\n",
      "5        1\n",
      "Name: Task ID, dtype: int64\n",
      "percentage of tasks have more than one label:  0.17325744382619038\n"
     ]
    }
   ],
   "source": [
    "# one task can be mapped to up to 5 DWAs\n",
    "task_counts = task_to_dwa['Task ID'].value_counts()\n",
    "#print(task_counts)\n",
    "print(task_counts.value_counts())\n",
    "dwa_multilabels = task_counts.value_counts().tolist()\n",
    "print('percentage of tasks have more than one label: ', sum(dwa_multilabels[1:])/len(task_to_dwa['Task ID']))"
   ]
  },
  {
   "cell_type": "code",
   "execution_count": 42,
   "id": "fc7f8f94-a8e2-402a-a462-a1b384f38db1",
   "metadata": {},
   "outputs": [
    {
     "data": {
      "image/png": "[encoded data removed]",
      "text/plain": [
       "<Figure size 432x288 with 1 Axes>"
      ]
     },
     "metadata": {
      "needs_background": "light"
     },
     "output_type": "display_data"
    }
   ],
   "source": [
    "plt.hist(task_counts)\n",
    "plt.plot(task_counts.value_counts().sort_index())\n",
    "plt.xlabel('number of DWAs one task belongs to')\n",
    "plt.ylabel('number of tasks')\n",
    "plt.title('Multilable situation (respect to DWA)')\n",
    "\n",
    "plt.savefig('imgs/mulila_dwa.png')\n",
    "plt.savefig('imgs/mulila_dwa.pdf')\n",
    "\n",
    "plt.show()"
   ]
  },
  {
   "cell_type": "markdown",
   "id": "02a67cb2-6be9-46ef-9dbd-38c6161e02c2",
   "metadata": {
    "jp-MarkdownHeadingCollapsed": true,
    "tags": []
   },
   "source": [
    "## tasks distribution on the level of IWAs"
   ]
  },
  {
   "cell_type": "code",
   "execution_count": 17,
   "id": "a746439d-b101-4744-9444-bd8dca3152cf",
   "metadata": {},
   "outputs": [
    {
     "name": "stdout",
     "output_type": "stream",
     "text": [
      "numbers of records in tasks to DWAs(de): 23543\n"
     ]
    },
    {
     "data": {
      "text/html": [
       "<div>\n",
       "<style scoped>\n",
       "    .dataframe tbody tr th:only-of-type {\n",
       "        vertical-align: middle;\n",
       "    }\n",
       "\n",
       "    .dataframe tbody tr th {\n",
       "        vertical-align: top;\n",
       "    }\n",
       "\n",
       "    .dataframe thead th {\n",
       "        text-align: right;\n",
       "    }\n",
       "</style>\n",
       "<table border=\"1\" class=\"dataframe\">\n",
       "  <thead>\n",
       "    <tr style=\"text-align: right;\">\n",
       "      <th></th>\n",
       "      <th>O*NET-SOC Code</th>\n",
       "      <th>Title</th>\n",
       "      <th>Task ID</th>\n",
       "      <th>Task</th>\n",
       "      <th>DWA ID</th>\n",
       "      <th>DWA Title</th>\n",
       "      <th>Date</th>\n",
       "      <th>Domain Source</th>\n",
       "      <th>Task_de</th>\n",
       "      <th>GWA ID</th>\n",
       "      <th>GWA Title</th>\n",
       "      <th>IWA ID</th>\n",
       "      <th>IWA Title</th>\n",
       "      <th>GWA_de</th>\n",
       "      <th>IWA_de</th>\n",
       "      <th>DWA_de</th>\n",
       "    </tr>\n",
       "  </thead>\n",
       "  <tbody>\n",
       "    <tr>\n",
       "      <th>0</th>\n",
       "      <td>11-1011.00</td>\n",
       "      <td>Chief Executives</td>\n",
       "      <td>20461</td>\n",
       "      <td>Review and analyze legislation, laws, or publi...</td>\n",
       "      <td>4.A.2.a.4.I09.D03</td>\n",
       "      <td>Analyze impact of legal or regulatory changes.</td>\n",
       "      <td>07/2014</td>\n",
       "      <td>Analyst</td>\n",
       "      <td>['Überprüfung und Analyse von Rechtsvorschrift...</td>\n",
       "      <td>4.A.2.a.4</td>\n",
       "      <td>Analyzing Data or Information</td>\n",
       "      <td>4.A.2.a.4.I09</td>\n",
       "      <td>Assess characteristics or impacts of regulatio...</td>\n",
       "      <td>['Analysieren von Daten oder Informationen']</td>\n",
       "      <td>['Beurteilung von Merkmalen oder Auswirkungen ...</td>\n",
       "      <td>['Analyse der Auswirkungen von rechtlichen ode...</td>\n",
       "    </tr>\n",
       "    <tr>\n",
       "      <th>1</th>\n",
       "      <td>11-1011.00</td>\n",
       "      <td>Chief Executives</td>\n",
       "      <td>20461</td>\n",
       "      <td>Review and analyze legislation, laws, or publi...</td>\n",
       "      <td>4.A.4.b.6.I08.D04</td>\n",
       "      <td>Advise others on legal or regulatory complianc...</td>\n",
       "      <td>07/2014</td>\n",
       "      <td>Analyst</td>\n",
       "      <td>['Überprüfung und Analyse von Rechtsvorschrift...</td>\n",
       "      <td>4.A.4.b.6</td>\n",
       "      <td>Providing Consultation and Advice to Others</td>\n",
       "      <td>4.A.4.b.6.I08</td>\n",
       "      <td>Advise others on legal or regulatory matters.</td>\n",
       "      <td>['Beratung und Beratung der anderen']</td>\n",
       "      <td>['Sie beraten andere über rechtliche oder regu...</td>\n",
       "      <td>['Sie beraten andere über die rechtliche oder ...</td>\n",
       "    </tr>\n",
       "    <tr>\n",
       "      <th>2</th>\n",
       "      <td>11-1011.00</td>\n",
       "      <td>Chief Executives</td>\n",
       "      <td>8823</td>\n",
       "      <td>Direct or coordinate an organization's financi...</td>\n",
       "      <td>4.A.4.b.4.I09.D02</td>\n",
       "      <td>Direct financial operations.</td>\n",
       "      <td>03/2014</td>\n",
       "      <td>Analyst</td>\n",
       "      <td>['Direkt oder koordiniert eine Organisation fi...</td>\n",
       "      <td>4.A.4.b.4</td>\n",
       "      <td>Guiding, Directing, and Motivating Subordinates</td>\n",
       "      <td>4.A.4.b.4.I09</td>\n",
       "      <td>Manage budgets or finances.</td>\n",
       "      <td>['Guiding, Directing, and motivation Subordina...</td>\n",
       "      <td>['Verwaltung von Budgets oder Finanzen.']</td>\n",
       "      <td>['Direkte Finanzoperationen.']</td>\n",
       "    </tr>\n",
       "    <tr>\n",
       "      <th>3</th>\n",
       "      <td>11-1011.00</td>\n",
       "      <td>Chief Executives</td>\n",
       "      <td>8824</td>\n",
       "      <td>Confer with board members, organization offici...</td>\n",
       "      <td>4.A.4.a.2.I03.D14</td>\n",
       "      <td>Confer with organizational members to accompli...</td>\n",
       "      <td>03/2014</td>\n",
       "      <td>Analyst</td>\n",
       "      <td>['Controlling mit Vorstandsmitgliedern, Organi...</td>\n",
       "      <td>4.A.4.a.2</td>\n",
       "      <td>Communicating with Supervisors, Peers, or Subo...</td>\n",
       "      <td>4.A.4.a.2.I03</td>\n",
       "      <td>Communicate with others about operational plan...</td>\n",
       "      <td>['Kommunikation mit Supervisor, Peers, oder Su...</td>\n",
       "      <td>['Kommunizieren Sie mit anderen über operation...</td>\n",
       "      <td>['Begleitung von Organisationsmitgliedern zur ...</td>\n",
       "    </tr>\n",
       "    <tr>\n",
       "      <th>4</th>\n",
       "      <td>11-1011.00</td>\n",
       "      <td>Chief Executives</td>\n",
       "      <td>8825</td>\n",
       "      <td>Analyze operations to evaluate performance of ...</td>\n",
       "      <td>4.A.2.a.4.I07.D09</td>\n",
       "      <td>Analyze data to assess operational or project ...</td>\n",
       "      <td>03/2014</td>\n",
       "      <td>Analyst</td>\n",
       "      <td>['Sie analysieren Operationen, um die Leistung...</td>\n",
       "      <td>4.A.2.a.4</td>\n",
       "      <td>Analyzing Data or Information</td>\n",
       "      <td>4.A.2.a.4.I07</td>\n",
       "      <td>Analyze data to improve operations.</td>\n",
       "      <td>['Analysieren von Daten oder Informationen']</td>\n",
       "      <td>['Analyse von Daten zur Verbesserung der Arbei...</td>\n",
       "      <td>['Analysieren von Daten, um operationelle oder...</td>\n",
       "    </tr>\n",
       "  </tbody>\n",
       "</table>\n",
       "</div>"
      ],
      "text/plain": [
       "  O*NET-SOC Code             Title  Task ID  \\\n",
       "0     11-1011.00  Chief Executives    20461   \n",
       "1     11-1011.00  Chief Executives    20461   \n",
       "2     11-1011.00  Chief Executives     8823   \n",
       "3     11-1011.00  Chief Executives     8824   \n",
       "4     11-1011.00  Chief Executives     8825   \n",
       "\n",
       "                                                Task             DWA ID  \\\n",
       "0  Review and analyze legislation, laws, or publi...  4.A.2.a.4.I09.D03   \n",
       "1  Review and analyze legislation, laws, or publi...  4.A.4.b.6.I08.D04   \n",
       "2  Direct or coordinate an organization's financi...  4.A.4.b.4.I09.D02   \n",
       "3  Confer with board members, organization offici...  4.A.4.a.2.I03.D14   \n",
       "4  Analyze operations to evaluate performance of ...  4.A.2.a.4.I07.D09   \n",
       "\n",
       "                                           DWA Title     Date Domain Source  \\\n",
       "0     Analyze impact of legal or regulatory changes.  07/2014       Analyst   \n",
       "1  Advise others on legal or regulatory complianc...  07/2014       Analyst   \n",
       "2                       Direct financial operations.  03/2014       Analyst   \n",
       "3  Confer with organizational members to accompli...  03/2014       Analyst   \n",
       "4  Analyze data to assess operational or project ...  03/2014       Analyst   \n",
       "\n",
       "                                             Task_de     GWA ID  \\\n",
       "0  ['Überprüfung und Analyse von Rechtsvorschrift...  4.A.2.a.4   \n",
       "1  ['Überprüfung und Analyse von Rechtsvorschrift...  4.A.4.b.6   \n",
       "2  ['Direkt oder koordiniert eine Organisation fi...  4.A.4.b.4   \n",
       "3  ['Controlling mit Vorstandsmitgliedern, Organi...  4.A.4.a.2   \n",
       "4  ['Sie analysieren Operationen, um die Leistung...  4.A.2.a.4   \n",
       "\n",
       "                                           GWA Title         IWA ID  \\\n",
       "0                      Analyzing Data or Information  4.A.2.a.4.I09   \n",
       "1        Providing Consultation and Advice to Others  4.A.4.b.6.I08   \n",
       "2    Guiding, Directing, and Motivating Subordinates  4.A.4.b.4.I09   \n",
       "3  Communicating with Supervisors, Peers, or Subo...  4.A.4.a.2.I03   \n",
       "4                      Analyzing Data or Information  4.A.2.a.4.I07   \n",
       "\n",
       "                                           IWA Title  \\\n",
       "0  Assess characteristics or impacts of regulatio...   \n",
       "1      Advise others on legal or regulatory matters.   \n",
       "2                        Manage budgets or finances.   \n",
       "3  Communicate with others about operational plan...   \n",
       "4                Analyze data to improve operations.   \n",
       "\n",
       "                                              GWA_de  \\\n",
       "0       ['Analysieren von Daten oder Informationen']   \n",
       "1              ['Beratung und Beratung der anderen']   \n",
       "2  ['Guiding, Directing, and motivation Subordina...   \n",
       "3  ['Kommunikation mit Supervisor, Peers, oder Su...   \n",
       "4       ['Analysieren von Daten oder Informationen']   \n",
       "\n",
       "                                              IWA_de  \\\n",
       "0  ['Beurteilung von Merkmalen oder Auswirkungen ...   \n",
       "1  ['Sie beraten andere über rechtliche oder regu...   \n",
       "2          ['Verwaltung von Budgets oder Finanzen.']   \n",
       "3  ['Kommunizieren Sie mit anderen über operation...   \n",
       "4  ['Analyse von Daten zur Verbesserung der Arbei...   \n",
       "\n",
       "                                              DWA_de  \n",
       "0  ['Analyse der Auswirkungen von rechtlichen ode...  \n",
       "1  ['Sie beraten andere über die rechtliche oder ...  \n",
       "2                     ['Direkte Finanzoperationen.']  \n",
       "3  ['Begleitung von Organisationsmitgliedern zur ...  \n",
       "4  ['Analysieren von Daten, um operationelle oder...  "
      ]
     },
     "execution_count": 17,
     "metadata": {},
     "output_type": "execute_result"
    }
   ],
   "source": [
    "de_path = '/srv/scratch2/jinq/taskontology/task_to_GWA_IWA_DWA_DE.csv'\n",
    "\n",
    "data_de = pd.read_csv(de_path, index_col=0)\n",
    "print('numbers of records in tasks to DWAs(de):', data_de.shape[0])\n",
    "data_de.head()"
   ]
  },
  {
   "cell_type": "code",
   "execution_count": 18,
   "id": "cc50f868-68f8-46b7-838e-271bab9ab957",
   "metadata": {},
   "outputs": [
    {
     "name": "stdout",
     "output_type": "stream",
     "text": [
      "count    332.000000\n",
      "mean      70.912651\n",
      "std       68.655022\n",
      "min        3.000000\n",
      "25%       28.000000\n",
      "50%       52.000000\n",
      "75%       87.000000\n",
      "max      545.000000\n",
      "Name: IWA ID, dtype: float64\n"
     ]
    },
    {
     "data": {
      "text/plain": [
       "4.A.3.b.6.I08    545\n",
       "4.A.4.b.4.I12    464\n",
       "4.A.2.b.3.I01    395\n",
       "Name: IWA ID, dtype: int64"
      ]
     },
     "execution_count": 18,
     "metadata": {},
     "output_type": "execute_result"
    }
   ],
   "source": [
    "# There are 332 distinctive IWAs \n",
    "# An IWA category contains an average of 70.9 tasks\n",
    "# An IWA category can contain up to 545 tasks\n",
    "iwa_counts = data_de['IWA ID'].value_counts()\n",
    "print(iwa_counts.describe())\n",
    "iwa_counts.head(3)"
   ]
  },
  {
   "cell_type": "code",
   "execution_count": 43,
   "id": "b2cb06d1-2acf-4388-bf6b-35b97846b173",
   "metadata": {},
   "outputs": [
    {
     "data": {
      "image/png": "[encoded data removed]",
      "text/plain": [
       "<Figure size 432x288 with 1 Axes>"
      ]
     },
     "metadata": {
      "needs_background": "light"
     },
     "output_type": "display_data"
    }
   ],
   "source": [
    "\n",
    "plt.hist(iwa_counts,bins=100)\n",
    "# plt.plot(iwa_counts.value_counts().sort_index())\n",
    "plt.xlabel('number of tasks in one IWA category')\n",
    "plt.ylabel('number of IWAs')\n",
    "plt.title('Distribution of tasks in IWAs')\n",
    "\n",
    "plt.savefig('imgs/iwa_task.png')\n",
    "plt.savefig('imgs/iwa_task.pdf')\n",
    "\n",
    "plt.show()"
   ]
  },
  {
   "cell_type": "code",
   "execution_count": 22,
   "id": "25dcbe77-1f88-4de2-8d08-c0168e9c8718",
   "metadata": {},
   "outputs": [
    {
     "name": "stdout",
     "output_type": "stream",
     "text": [
      "22744\n",
      "1    15302\n",
      "2     3150\n",
      "3      374\n",
      "4        5\n",
      "Name: Task ID, dtype: int64\n",
      "percentage of tasks have more than one IWA label:  0.15516180091452692\n"
     ]
    }
   ],
   "source": [
    "# the mappings between tasks and IWA\n",
    "task_iwa = data_de[['Task ID','IWA ID']].drop_duplicates()\n",
    "print(len(task_iwa))# 22744 distinct mappings\n",
    "\n",
    "task_iwa_counts = task_iwa['Task ID'].value_counts()\n",
    "print(task_iwa_counts.value_counts()) # one task can be mapped to up to 4 IWAs\n",
    "\n",
    "iwa_multilabels = task_iwa_counts.value_counts().tolist()\n",
    "print('percentage of tasks have more than one IWA label: ', sum(iwa_multilabels[1:])/len(task_iwa))"
   ]
  },
  {
   "cell_type": "code",
   "execution_count": 44,
   "id": "7030115d-9e82-4a0d-9def-0968f8c2174d",
   "metadata": {},
   "outputs": [
    {
     "data": {
      "image/png": "[encoded data removed]",
      "text/plain": [
       "<Figure size 432x288 with 1 Axes>"
      ]
     },
     "metadata": {
      "needs_background": "light"
     },
     "output_type": "display_data"
    }
   ],
   "source": [
    "plt.hist(task_iwa_counts)\n",
    "plt.plot(task_iwa_counts.value_counts().sort_index())\n",
    "plt.xlabel('number of IWAs one task belongs to')\n",
    "plt.ylabel('number of tasks')\n",
    "plt.title('Multilable situation (respect to IWA)')\n",
    "\n",
    "plt.savefig('imgs/mulila_iwa.png')\n",
    "plt.savefig('imgs/mulila_iwa.pdf')\n",
    "\n",
    "plt.show()"
   ]
  },
  {
   "cell_type": "markdown",
   "id": "9bb70067-ee8a-4207-bce1-79be4865bb53",
   "metadata": {
    "jp-MarkdownHeadingCollapsed": true,
    "tags": []
   },
   "source": [
    "## tasks distribution on the level of GWAs"
   ]
  },
  {
   "cell_type": "code",
   "execution_count": 33,
   "id": "6922fff2-24b3-4090-8655-e780cb27282b",
   "metadata": {},
   "outputs": [
    {
     "name": "stdout",
     "output_type": "stream",
     "text": [
      "count      37.000000\n",
      "mean      636.297297\n",
      "std       604.690870\n",
      "min        44.000000\n",
      "25%       168.000000\n",
      "50%       395.000000\n",
      "75%       800.000000\n",
      "max      3055.000000\n",
      "Name: GWA ID, dtype: float64\n"
     ]
    },
    {
     "data": {
      "text/plain": [
       "4.A.3.a.2    3055\n",
       "4.A.3.b.6    1758\n",
       "4.A.4.b.4    1445\n",
       "Name: GWA ID, dtype: int64"
      ]
     },
     "execution_count": 33,
     "metadata": {},
     "output_type": "execute_result"
    }
   ],
   "source": [
    "# There are 37 distinctive GWAs \n",
    "# A GWA category contains an average of 636 tasks\n",
    "# A GWA category can contain up to 3055 tasks\n",
    "\n",
    "gwa_counts = data_de['GWA ID'].value_counts()\n",
    "print(gwa_counts.describe())\n",
    "gwa_counts.head(3)"
   ]
  },
  {
   "cell_type": "code",
   "execution_count": 45,
   "id": "9a3e7b36-bb6b-4e27-b558-ca0effbfc01b",
   "metadata": {},
   "outputs": [
    {
     "data": {
      "image/png": "[encoded data removed]",
      "text/plain": [
       "<Figure size 432x288 with 1 Axes>"
      ]
     },
     "metadata": {
      "needs_background": "light"
     },
     "output_type": "display_data"
    }
   ],
   "source": [
    "\n",
    "plt.hist(gwa_counts,bins=50)\n",
    "#plt.plot(gwa_counts.value_counts().sort_index())\n",
    "plt.xlabel('number of tasks in one GWA category')\n",
    "plt.ylabel('number of GWAs')\n",
    "plt.title('Distribution of tasks in GWAs')\n",
    "\n",
    "plt.savefig('imgs/gwa_task.png')\n",
    "plt.savefig('imgs/gwa_task.pdf')\n",
    "\n",
    "plt.show()"
   ]
  },
  {
   "cell_type": "code",
   "execution_count": 36,
   "id": "11bff698-dc30-4b03-b420-db64e7aee84b",
   "metadata": {},
   "outputs": [
    {
     "name": "stdout",
     "output_type": "stream",
     "text": [
      "21976\n",
      "1    15897\n",
      "2     2723\n",
      "3      211\n",
      "Name: Task ID, dtype: int64\n",
      "percentage of tasks have more than one IWA label:  0.13350928285402258\n"
     ]
    }
   ],
   "source": [
    "# the mappings between tasks and GWA\n",
    "task_gwa = data_de[['Task ID','GWA ID']].drop_duplicates()\n",
    "print(len(task_gwa))# 21976 distinct mappings\n",
    "\n",
    "task_gwa_counts = task_gwa['Task ID'].value_counts()\n",
    "print(task_gwa_counts.value_counts())  # one task can be mapped to up to 3 GWAs\n",
    "\n",
    "gwa_multilabels = task_gwa_counts.value_counts().tolist()\n",
    "print('percentage of tasks have more than one IWA label: ', sum(gwa_multilabels[1:])/len(task_gwa))"
   ]
  },
  {
   "cell_type": "code",
   "execution_count": 46,
   "id": "210b2bcc-fb9d-4753-8890-0a7b6708721a",
   "metadata": {},
   "outputs": [
    {
     "data": {
      "image/png": "[encoded data removed]",
      "text/plain": [
       "<Figure size 432x288 with 1 Axes>"
      ]
     },
     "metadata": {
      "needs_background": "light"
     },
     "output_type": "display_data"
    }
   ],
   "source": [
    "plt.hist(task_gwa_counts)\n",
    "plt.plot(task_gwa_counts.value_counts().sort_index())\n",
    "plt.xlabel('number of GWAs one task belongs to')\n",
    "plt.ylabel('number of tasks')\n",
    "plt.title('Multilable situation (respect to GWA)')\n",
    "\n",
    "plt.savefig('imgs/mulila_gwa.png')\n",
    "plt.savefig('imgs/mulila_gwa.pdf')\n",
    "\n",
    "plt.show()"
   ]
  },
  {
   "cell_type": "markdown",
   "id": "5b94d86d-8e0c-4265-b142-8e7e0a4091b6",
   "metadata": {
    "jp-MarkdownHeadingCollapsed": true,
    "tags": []
   },
   "source": [
    "## Example Analysis\n",
    "\n",
    "\n",
    "Exploring the multilabel distribution respect to different classification levels.   \n",
    "Examples: task id: 22935, 22847, 22838, 21849, 23156"
   ]
  },
  {
   "cell_type": "code",
   "execution_count": 56,
   "id": "2f0c5ef3-6fd0-4247-9328-62a822931a0d",
   "metadata": {},
   "outputs": [],
   "source": [
    "def dig_types(task_id):\n",
    "    df = data_de[data_de['Task ID'] == task_id]\n",
    "    print('distinct DWA labels: ',len(df['DWA ID']), '\\n', df['DWA ID'].values)\n",
    "    iwa_types = df['IWA ID'].drop_duplicates()\n",
    "    print('distinct IWA labels: ',len(iwa_types), '\\n', iwa_types.values)\n",
    "    gwa_types = df['GWA ID'].drop_duplicates()\n",
    "    print('distinct GWA labels: ',len(gwa_types), '\\n', gwa_types.values)"
   ]
  },
  {
   "cell_type": "code",
   "execution_count": 60,
   "id": "152e0275-02ff-41fe-80e0-74ce0aca7fed",
   "metadata": {},
   "outputs": [
    {
     "data": {
      "text/plain": [
       "['Analyze burn conditions and results, and prepare postburn reports.',\n",
       " 'Analyze burn conditions and results, and prepare postburn reports.',\n",
       " 'Analyze burn conditions and results, and prepare postburn reports.',\n",
       " 'Analyze burn conditions and results, and prepare postburn reports.',\n",
       " 'Analyze burn conditions and results, and prepare postburn reports.']"
      ]
     },
     "execution_count": 60,
     "metadata": {},
     "output_type": "execute_result"
    }
   ],
   "source": [
    "data_de[data_de['Task ID'] == 22935]['Task'].tolist()\n"
   ]
  },
  {
   "cell_type": "code",
   "execution_count": 67,
   "id": "32d9ecaa-d474-430f-a924-35e3638b091b",
   "metadata": {},
   "outputs": [
    {
     "name": "stdout",
     "output_type": "stream",
     "text": [
      "labels of task 22935: \n",
      "distinct DWA types:  5 \n",
      " ['4.A.1.a.2.I07.D10' '4.A.1.a.2.I09.D02' '4.A.1.a.2.I09.D05'\n",
      " '4.A.3.a.1.I02.D03' '4.A.3.b.6.I15.D04']\n",
      "distinct IWA types:  4 \n",
      " ['4.A.1.a.2.I07' '4.A.1.a.2.I09' '4.A.3.a.1.I02' '4.A.3.b.6.I15']\n",
      "distinct GWA types:  3 \n",
      " ['4.A.1.a.2' '4.A.3.a.1' '4.A.3.b.6']\n"
     ]
    }
   ],
   "source": [
    "# task: 22935\n",
    "print('labels of task 22935: ')\n",
    "dig_types(22935)"
   ]
  },
  {
   "cell_type": "code",
   "execution_count": 68,
   "id": "952038cb-dfc9-4f35-8dd6-e24c2d13fe6e",
   "metadata": {},
   "outputs": [
    {
     "name": "stdout",
     "output_type": "stream",
     "text": [
      "labels of task 22847: \n",
      "distinct DWA types:  4 \n",
      " ['4.A.1.a.2.I02.D03' '4.A.3.a.2.I09.D04' '4.A.3.a.2.I09.D05'\n",
      " '4.A.3.a.2.I09.D06']\n",
      "distinct IWA types:  2 \n",
      " ['4.A.1.a.2.I02' '4.A.3.a.2.I09']\n",
      "distinct GWA types:  2 \n",
      " ['4.A.1.a.2' '4.A.3.a.2']\n"
     ]
    }
   ],
   "source": [
    "# task: 22847\n",
    "print('labels of task 22847: ')\n",
    "dig_types(22847)"
   ]
  },
  {
   "cell_type": "code",
   "execution_count": 69,
   "id": "6c90e314-1690-446e-92a9-6a28635128a7",
   "metadata": {},
   "outputs": [
    {
     "name": "stdout",
     "output_type": "stream",
     "text": [
      "labels of task 22838: \n",
      "distinct DWA types:  4 \n",
      " ['4.A.2.b.2.I01.D01' '4.A.4.a.2.I02.D01' '4.A.4.a.2.I03.D01'\n",
      " '4.A.4.a.2.I05.D03']\n",
      "distinct IWA types:  4 \n",
      " ['4.A.2.b.2.I01' '4.A.4.a.2.I02' '4.A.4.a.2.I03' '4.A.4.a.2.I05']\n",
      "distinct GWA types:  2 \n",
      " ['4.A.2.b.2' '4.A.4.a.2']\n"
     ]
    }
   ],
   "source": [
    "# task: 22838\n",
    "print('labels of task 22838: ')\n",
    "dig_types(22838)"
   ]
  },
  {
   "cell_type": "code",
   "execution_count": 70,
   "id": "503c2f59-1ec5-439d-b268-cd95a56f94fd",
   "metadata": {},
   "outputs": [
    {
     "name": "stdout",
     "output_type": "stream",
     "text": [
      "labels of task 21489: \n",
      "distinct DWA types:  4 \n",
      " ['4.A.2.b.2.I24.D03' '4.A.3.a.2.I20.D05' '4.A.3.b.4.I03.D03'\n",
      " '4.A.3.b.4.I04.D04']\n",
      "distinct IWA types:  4 \n",
      " ['4.A.2.b.2.I24' '4.A.3.a.2.I20' '4.A.3.b.4.I03' '4.A.3.b.4.I04']\n",
      "distinct GWA types:  3 \n",
      " ['4.A.2.b.2' '4.A.3.a.2' '4.A.3.b.4']\n"
     ]
    }
   ],
   "source": [
    "# task: 21489\n",
    "print('labels of task 21489: ')\n",
    "dig_types(21489)"
   ]
  },
  {
   "cell_type": "code",
   "execution_count": 71,
   "id": "74f74a0c-5fbd-4a98-a9a3-f4b81ec177c1",
   "metadata": {},
   "outputs": [
    {
     "name": "stdout",
     "output_type": "stream",
     "text": [
      "labels of task 23156: \n",
      "distinct DWA types:  4 \n",
      " ['4.A.2.a.1.I04.D04' '4.A.4.b.3.I04.D20' '4.A.4.b.4.I01.D04'\n",
      " '4.A.4.b.4.I13.D04']\n",
      "distinct IWA types:  4 \n",
      " ['4.A.2.a.1.I04' '4.A.4.b.3.I04' '4.A.4.b.4.I01' '4.A.4.b.4.I13']\n",
      "distinct GWA types:  3 \n",
      " ['4.A.2.a.1' '4.A.4.b.3' '4.A.4.b.4']\n"
     ]
    }
   ],
   "source": [
    "# task: 23156\n",
    "print('labels of task 23156: ')\n",
    "dig_types(23156)"
   ]
  },
  {
   "cell_type": "code",
   "execution_count": null,
   "id": "c250e57f-60c6-46a0-a7b1-aae326ff56f8",
   "metadata": {},
   "outputs": [],
   "source": []
  }
 ],
 "metadata": {
  "kernelspec": {
   "display_name": "new_env",
   "language": "python",
   "name": "new_env"
  },
  "language_info": {
   "codemirror_mode": {
    "name": "ipython",
    "version": 3
   },
   "file_extension": ".py",
   "mimetype": "text/x-python",
   "name": "python",
   "nbconvert_exporter": "python",
   "pygments_lexer": "ipython3",
   "version": "3.10.4"
  }
 },
 "nbformat": 4,
 "nbformat_minor": 5
}
